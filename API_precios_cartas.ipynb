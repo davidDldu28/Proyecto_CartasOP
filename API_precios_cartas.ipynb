{
 "cells": [
  {
   "cell_type": "markdown",
   "metadata": {},
   "source": [
    "Importar datos de Cartas de OP"
   ]
  },
  {
   "cell_type": "code",
   "execution_count": 24,
   "metadata": {},
   "outputs": [],
   "source": [
    "import pandas as pd\n",
    "One_Piece_cards =  pd.read_csv('Cartas_One_Piece.csv')"
   ]
  },
  {
   "cell_type": "markdown",
   "metadata": {},
   "source": [
    "Filtrar cartas de rarezas Secret Rare, Special y Alternate Art"
   ]
  },
  {
   "cell_type": "code",
   "execution_count": 25,
   "metadata": {},
   "outputs": [],
   "source": [
    "Rarity_list = ['Secret Rare', 'Special', 'Alternate Art']\n",
    "One_Piece_cards_wishlist =One_Piece_cards[One_Piece_cards['Rarity'].isin(Rarity_list)]"
   ]
  },
  {
   "cell_type": "markdown",
   "metadata": {},
   "source": [
    "Credenciales para conexión con API"
   ]
  },
  {
   "cell_type": "code",
   "execution_count": 26,
   "metadata": {},
   "outputs": [],
   "source": [
    "url = 'https://api.cardtrader.com/api/v2/marketplace/products'\n",
    "\n",
    "# Tu token de autenticación\n",
    "auth_token = 'TOKEN_AUTORIZACION_CARDTRADER'\n",
    "# \n",
    "# Cabeceras de la solicitud\n",
    "headers = {\n",
    "    \"Authorization\": f\"Bearer {auth_token}\"\n",
    "}"
   ]
  },
  {
   "cell_type": "markdown",
   "metadata": {},
   "source": [
    "Realizar consulta a API de Cardtrader de precio de cada carta y estructura la data"
   ]
  },
  {
   "cell_type": "code",
   "execution_count": 27,
   "metadata": {},
   "outputs": [],
   "source": [
    "import requests\n",
    "import time\n",
    "\n",
    "all_cards = []\n",
    "cartas_precios = pd.Series()\n",
    "\n",
    "Card_ids_wishlist = One_Piece_cards_wishlist['Card_id'].values\n",
    "\n",
    "for bp in Card_ids_wishlist:\n",
    "# Parámetros opcionales de la solicitud\n",
    "    params = {\n",
    "        \n",
    "        'blueprint_id' : bp\n",
    "    }\n",
    "    response = requests.get(url, headers=headers, params=params)\n",
    "    # Verificar el estado de la respuesta\n",
    "    if response.status_code == 200:\n",
    "        data = response.json()\n",
    "\n",
    "        if not data[str(bp)]:\n",
    "            continue  \n",
    "\n",
    "        df = pd.json_normalize(data[str(bp)])\n",
    "        card_df = df[['id' ,'blueprint_id',\n",
    "                    'properties_hash.condition',\n",
    "                    'properties_hash.collector_number','name_en',\n",
    "                    'properties_hash.onepiece_language','expansion.code', \n",
    "                    'properties_hash.onepiece_rarity',\n",
    "                    'user.id',\n",
    "                    'user.username',\n",
    "                    'user.country_code',\n",
    "                    'quantity','price_cents']]\n",
    "        \n",
    "        mask_condition = (card_df[ 'properties_hash.onepiece_language'] == 'en' )& (card_df[ 'properties_hash.condition'] == 'Near Mint' )\n",
    "        filter_card = card_df[mask_condition]\n",
    "        filter_card.loc[:, 'price_cents'] = filter_card['price_cents'] / 100\n",
    "        filter_card = filter_card.drop(['properties_hash.condition','properties_hash.onepiece_language'], axis=1)\n",
    "        filter_card.columns = ['id', 'Card_id', 'Collector_code', 'Card_name','Expansion_code','Rarity', 'User_id', 'User_name','User_country','Quantity','Price']\n",
    "\n",
    "        all_cards.append(filter_card)\n",
    "    else:\n",
    "        print(f\"Error: {response.status_code} - {response.text}\")\n",
    "    time.sleep(1)\n",
    "\n",
    "cartas_precios = pd.concat(all_cards, ignore_index=True)"
   ]
  },
  {
   "cell_type": "markdown",
   "metadata": {},
   "source": [
    "Eliminar valores atipicos de precios de cartas con zscore"
   ]
  },
  {
   "cell_type": "code",
   "execution_count": 28,
   "metadata": {},
   "outputs": [],
   "source": [
    "from scipy import stats\n",
    "\n",
    "# Calcular Z-scores para la columna 'Price' por 'Card_id'\n",
    "cartas_precios['z_score'] = cartas_precios.groupby('Card_id')['Price'].transform(lambda x: stats.zscore(x))\n",
    "\n",
    "# Filtrar los valores con un Z-score mayor que 3 o menor que -3\n",
    "cartas_precios = cartas_precios[cartas_precios['z_score'].abs() <= 3]\n",
    "cartas_precios = cartas_precios.drop('z_score',axis=1)"
   ]
  },
  {
   "cell_type": "markdown",
   "metadata": {},
   "source": [
    "Guardar datos extraidos en una base de datos MySQL."
   ]
  },
  {
   "cell_type": "code",
   "execution_count": 29,
   "metadata": {},
   "outputs": [],
   "source": [
    "import pymysql\n",
    "def send_to_mysql(data):\n",
    "    try:\n",
    "        connection = pymysql.connect(\n",
    "            host=\"localhost\",\n",
    "            user=\"root\",\n",
    "            password=\"miclave\",\n",
    "            database='One_Piece_Cards'\n",
    "        )\n",
    "        cursor = connection.cursor()\n",
    "\n",
    "        # Crear tabla si no existe\n",
    "        cursor.execute(\"\"\"\n",
    "        CREATE TABLE IF NOT EXISTS OP_Current_Cards (\n",
    "            id INT PRIMARY KEY,\n",
    "            Card_id INT,\n",
    "            Collector_code VARCHAR(100),\n",
    "            Card_Name VARCHAR(100),\n",
    "            Expansion_Code VARCHAR(100),\n",
    "            Rarity VARCHAR(100),\n",
    "            User_id INT,\n",
    "            User_name VARCHAR(100),\n",
    "            User_country VARCHAR(100),\n",
    "            Quantity VARCHAR(100),\n",
    "            Price DECIMAL(10,2)\n",
    "        )\n",
    "        \"\"\")\n",
    "\n",
    "        # Insertar datos\n",
    "        columns = ', '.join(data.columns)\n",
    "        values = ', '.join(['%s'] * len(data.columns))  \n",
    "        update_values = ', '.join([f\"{col}=VALUES({col})\" for col in data.columns if col != 'id'])\n",
    "        for _, row in data.iterrows():\n",
    "            cursor.execute(f\"\"\"\n",
    "            INSERT INTO OP_Current_Cards ({columns}) \n",
    "            VALUES ({values}) \n",
    "            ON DUPLICATE KEY UPDATE {update_values}\n",
    "            \"\"\", (tuple(row)))\n",
    "\n",
    "        connection.commit()\n",
    "        print(\"Datos insertados en MySQL.\")\n",
    "    except pymysql.MySQLError as e:\n",
    "        print(\"Error en MySQL:\", e)\n",
    "    finally:\n",
    "        if connection:\n",
    "            cursor.close()\n",
    "            connection.close()\n"
   ]
  },
  {
   "cell_type": "code",
   "execution_count": 30,
   "metadata": {},
   "outputs": [
    {
     "name": "stdout",
     "output_type": "stream",
     "text": [
      "Datos insertados en MySQL.\n"
     ]
    }
   ],
   "source": [
    "send_to_mysql(cartas_precios)"
   ]
  },
  {
   "cell_type": "markdown",
   "metadata": {},
   "source": [
    "Dataset de metricas de precio(promedio, min, max) de cada carta."
   ]
  },
  {
   "cell_type": "code",
   "execution_count": 31,
   "metadata": {},
   "outputs": [],
   "source": [
    "import time\n",
    "\n",
    "# Agregar timestamp\n",
    "timestamp = time.strftime('%Y-%m-%d %H:%M:%S')\n",
    "\n",
    "# Agrupar por Card_ID y calcular las métricas (máximo, mínimo, promedio)\n",
    "df_metrics = cartas_precios.groupby('Card_id').agg(\n",
    "    Collector_code = ('Collector_code','first'), \n",
    "    Card_name = ('Card_name','first'),\n",
    "    Expansion_code = ('Expansion_code','first'),\n",
    "    Rarity = ('Rarity','first'),\n",
    "    Quantity = ('Quantity','sum'),                                 \n",
    "    Max_Price=('Price', 'max'),\n",
    "    Min_Price=('Price', 'min'),\n",
    "    Avg_Price=('Price', 'mean')\n",
    ").reset_index()\n",
    "\n",
    "# Agregar el timestamp a las métricas\n",
    "df_metrics['Timestamp'] = timestamp"
   ]
  },
  {
   "cell_type": "markdown",
   "metadata": {},
   "source": [
    "Guardar en base de datos MySQL"
   ]
  },
  {
   "cell_type": "code",
   "execution_count": 32,
   "metadata": {},
   "outputs": [
    {
     "name": "stdout",
     "output_type": "stream",
     "text": [
      "Datos insertados en MySQL.\n"
     ]
    }
   ],
   "source": [
    "def send_to_mysql(data):\n",
    "    try:\n",
    "        connection = pymysql.connect(\n",
    "            host=\"localhost\",\n",
    "            user=\"root\",\n",
    "            password=\"miclave\",\n",
    "            database='One_Piece_Cards'\n",
    "        )\n",
    "        cursor = connection.cursor()\n",
    "\n",
    "        # Crear tabla si no existe\n",
    "        cursor.execute(\"\"\"\n",
    "        CREATE TABLE IF NOT EXISTS OP_Current_Price_Metrics (\n",
    "            Card_id INT PRIMARY KEY,\n",
    "            Collector_code VARCHAR(100),\n",
    "            Card_Name VARCHAR(100),\n",
    "            Expansion_Code VARCHAR(100),\n",
    "            Rarity VARCHAR(100),\n",
    "            Quantity INT,\n",
    "            Max_Price DECIMAL(10,2),\n",
    "            Min_Price DECIMAL(10,2),\n",
    "            Avg_Price DECIMAL(10,2),\n",
    "            Timestamp DATETIME\n",
    "        )\n",
    "        \"\"\")\n",
    "\n",
    "        # Insertar datos\n",
    "        columns = ', '.join(data.columns)\n",
    "        values = ', '.join(['%s'] * len(data.columns))  \n",
    "        update_values = ', '.join([f\"{col}=VALUES({col})\" for col in data.columns if col != 'id'])\n",
    "        for _, row in data.iterrows():\n",
    "            cursor.execute(f\"\"\"\n",
    "            INSERT INTO OP_Current_Price_Metrics ({columns}) \n",
    "            VALUES ({values}) \n",
    "            ON DUPLICATE KEY UPDATE {update_values}\n",
    "            \"\"\", (tuple(row)))\n",
    "\n",
    "        connection.commit()\n",
    "        print(\"Datos insertados en MySQL.\")\n",
    "    except pymysql.MySQLError as e:\n",
    "        print(\"Error en MySQL:\", e)\n",
    "    finally:\n",
    "        if connection:\n",
    "            cursor.close()\n",
    "            connection.close()\n",
    "\n",
    "send_to_mysql(df_metrics)"
   ]
  }
 ],
 "metadata": {
  "kernelspec": {
   "display_name": "Python 3",
   "language": "python",
   "name": "python3"
  },
  "language_info": {
   "codemirror_mode": {
    "name": "ipython",
    "version": 3
   },
   "file_extension": ".py",
   "mimetype": "text/x-python",
   "name": "python",
   "nbconvert_exporter": "python",
   "pygments_lexer": "ipython3",
   "version": "3.11.8"
  }
 },
 "nbformat": 4,
 "nbformat_minor": 2
}
