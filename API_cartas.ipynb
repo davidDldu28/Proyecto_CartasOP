{
 "cells": [
  {
   "cell_type": "markdown",
   "metadata": {},
   "source": [
    "Consultar ID de las expansiones para realziar consultas de las cartas de cada expansión"
   ]
  },
  {
   "cell_type": "code",
   "execution_count": 1,
   "metadata": {},
   "outputs": [],
   "source": [
    "import pandas as pd\n",
    "import requests\n",
    "\n",
    "OP_game_id = 15\n",
    "\n",
    "url =  'https://api.cardtrader.com/api/v2/expansions'\n",
    "\n",
    "# Tu token de autenticación\n",
    "auth_token = 'TOKEN_AUTORIZACION_CARDTRADER'\n",
    "\n",
    "# Cabeceras de la solicitud\n",
    "headers = {\n",
    "    \"Authorization\": f\"Bearer {auth_token}\"\n",
    "}\n",
    "\n",
    "# Parámetros opcionales de la solicitud\n",
    "params = {\n",
    "    \"game_id\": 15 \n",
    "}\n",
    "\n",
    "# Realizar la solicitud GET\n",
    "response = requests.get(url, headers=headers, params=params)\n",
    "\n",
    "# Verificar el estado de la respuesta\n",
    "if response.status_code == 200:\n",
    "    # Imprimir el contenido de la respuesta (en formato JSON)\n",
    "    response.json()\n",
    "    df = pd.DataFrame(response.json())\n",
    "    one_piece_expansions = df[df['game_id'] == OP_game_id]\n",
    "    \n",
    "else:\n",
    "    print(f\"Error: {response.status_code} - {response.text}\")"
   ]
  },
  {
   "cell_type": "markdown",
   "metadata": {},
   "source": [
    "Filtrar por expansionas ya lanzadas"
   ]
  },
  {
   "cell_type": "code",
   "execution_count": 2,
   "metadata": {},
   "outputs": [],
   "source": [
    "ids_op_expan = one_piece_expansions.iloc[:-2,:]\n",
    "ids_op_expan = ids_op_expan[['id','code']] "
   ]
  },
  {
   "cell_type": "markdown",
   "metadata": {},
   "source": [
    "Comsultar nombre y características de las cartas"
   ]
  },
  {
   "cell_type": "code",
   "execution_count": 3,
   "metadata": {},
   "outputs": [],
   "source": [
    "import json\n",
    "import time\n",
    "\n",
    "url = 'https://api.cardtrader.com/api/v2/blueprints/export'\n",
    "\n",
    "Op_cards = pd.DataFrame()\n",
    "for id,name in ids_op_expan.values:\n",
    "    # Parámetros opcionales de la solicitud\n",
    "    params = {\n",
    "        \"expansion_id\": id\n",
    "    }\n",
    "    response = requests.get(url, headers=headers, params=params)\n",
    "\n",
    "    # Verificar el estado de la respuesta\n",
    "    if response.status_code == 200:\n",
    "        # Imprimir el contenido de la respuesta (en formato JSON)\n",
    "        data = response.json()\n",
    "        df = pd.json_normalize(data)\n",
    "        Op_cards_exp =  df[['id', 'name', 'expansion_id','fixed_properties.collector_number', 'fixed_properties.onepiece_rarity']]\n",
    "        Op_cards_exp = Op_cards_exp.dropna()\n",
    "        Op_cards_exp.columns = ['BlueprintID','Name', 'expansion_id','Code', 'Rarity']\n",
    "        \n",
    "        Op_cards = pd.concat([Op_cards, Op_cards_exp], ignore_index=True)\n",
    "        \n",
    "    else:\n",
    "        print(f\"Error: {response.status_code} - {response.text}\")\n",
    "    time.sleep(1)"
   ]
  },
  {
   "cell_type": "code",
   "execution_count": 6,
   "metadata": {},
   "outputs": [],
   "source": [
    "one_piece_expansions.rename(columns={'id': 'expansion_id'}, inplace=True)\n",
    "cartas_expansiones = pd.merge(Op_cards,one_piece_expansions, how='left', on = 'expansion_id' )"
   ]
  },
  {
   "cell_type": "code",
   "execution_count": 7,
   "metadata": {},
   "outputs": [],
   "source": [
    "cartas_expansiones = cartas_expansiones.drop(['expansion_id', 'game_id'], axis=1)\n",
    "cartas_expansiones.columns = ['Card_id','Card_name', 'Card_code','Rarity',\t'Expasion_code','Expansion_name']\n",
    "cartas_expansiones.to_csv('Cartas_One_Piece.csv', index=False)"
   ]
  }
 ],
 "metadata": {
  "kernelspec": {
   "display_name": "Python 3",
   "language": "python",
   "name": "python3"
  },
  "language_info": {
   "codemirror_mode": {
    "name": "ipython",
    "version": 3
   },
   "file_extension": ".py",
   "mimetype": "text/x-python",
   "name": "python",
   "nbconvert_exporter": "python",
   "pygments_lexer": "ipython3",
   "version": "3.11.8"
  }
 },
 "nbformat": 4,
 "nbformat_minor": 2
}
